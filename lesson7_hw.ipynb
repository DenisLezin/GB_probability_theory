{
 "cells": [
  {
   "cell_type": "code",
   "execution_count": 1,
   "metadata": {},
   "outputs": [],
   "source": [
    "import numpy as np\n",
    "from matplotlib import pyplot as plt"
   ]
  },
  {
   "cell_type": "markdown",
   "metadata": {},
   "source": [
    "## Урок 7\n",
    "### Задание 1\n",
    "Даны значения величины заработной платы заемщиков банка (zp) и значения их поведенческого кредитного скоринга  \n",
    "(ks): zp = [35, 45, 190, 200, 40, 70, 54, 150, 120, 110],  \n",
    "ks = [401, 574, 874, 919, 459, 739, 653, 902, 746, 832].  \n",
    "Используя математические операции, посчитать коэффициенты линейной регрессии, приняв за X заработную плату  \n",
    "(то есть, zp - признак), а за y - значения скорингового балла (то есть, ks - целевая переменная).  \n",
    "Произвести расчет как с использованием intercept, так и без."
   ]
  },
  {
   "cell_type": "code",
   "execution_count": 2,
   "metadata": {},
   "outputs": [],
   "source": [
    "zp = np.array([35, 45, 190, 200, 40, 70, 54, 150, 120, 110])\n",
    "ks = np.array([401, 574, 874, 919, 459, 739, 653, 902, 746, 832])"
   ]
  },
  {
   "cell_type": "code",
   "execution_count": 3,
   "metadata": {},
   "outputs": [
    {
     "data": {
      "image/png": "[encoded data removed]",
      "text/plain": [
       "<Figure size 432x288 with 1 Axes>"
      ]
     },
     "metadata": {
      "needs_background": "light"
     },
     "output_type": "display_data"
    }
   ],
   "source": [
    "plt.scatter(zp, ks)\n",
    "plt.show()"
   ]
  },
  {
   "cell_type": "markdown",
   "metadata": {},
   "source": [
    "зависимость больше похожа на логарифмическую, однако задача про линейную регрессию  \n",
    "первый вариант - без intercept  \n",
    "y = bx"
   ]
  },
  {
   "cell_type": "code",
   "execution_count": 4,
   "metadata": {},
   "outputs": [
    {
     "data": {
      "text/plain": [
       "2.620538882402765"
      ]
     },
     "execution_count": 4,
     "metadata": {},
     "output_type": "execute_result"
    }
   ],
   "source": [
    "b = (np.mean(zp * ks) - np.mean(zp) * np.mean(ks)) / (np.mean(zp**2) - np.mean(zp)**2)\n",
    "b"
   ]
  },
  {
   "cell_type": "code",
   "execution_count": 5,
   "metadata": {},
   "outputs": [
    {
     "data": {
      "text/plain": [
       "array([ 91.71886088, 117.92424971, 497.90238766, 524.10777648,\n",
       "       104.8215553 , 183.43772177, 141.50909965, 393.08083236,\n",
       "       314.46466589, 288.25927706])"
      ]
     },
     "execution_count": 5,
     "metadata": {},
     "output_type": "execute_result"
    }
   ],
   "source": [
    "ks_hat = b * zp\n",
    "ks_hat"
   ]
  },
  {
   "cell_type": "code",
   "execution_count": 6,
   "metadata": {},
   "outputs": [
    {
     "data": {
      "image/png": "[encoded data removed]",
      "text/plain": [
       "<Figure size 432x288 with 1 Axes>"
      ]
     },
     "metadata": {
      "needs_background": "light"
     },
     "output_type": "display_data"
    }
   ],
   "source": [
    "plt.scatter(zp, ks)\n",
    "plt.plot(zp, ks_hat, color='r')\n",
    "plt.show()"
   ]
  },
  {
   "cell_type": "code",
   "execution_count": 7,
   "metadata": {},
   "outputs": [
    {
     "data": {
      "text/plain": [
       "203763.93896082853"
      ]
     },
     "execution_count": 7,
     "metadata": {},
     "output_type": "execute_result"
    }
   ],
   "source": [
    "mse = np.mean((ks - ks_hat)**2)\n",
    "mse"
   ]
  },
  {
   "cell_type": "markdown",
   "metadata": {},
   "source": [
    "без intercept модель показала определенную зависимость, однако для использования не пригодна  \n",
    "\n",
    "второй вариант - используя intercept  \n",
    "y = a + bx"
   ]
  },
  {
   "cell_type": "code",
   "execution_count": 8,
   "metadata": {},
   "outputs": [
    {
     "data": {
      "text/plain": [
       "2.620538882402765"
      ]
     },
     "execution_count": 8,
     "metadata": {},
     "output_type": "execute_result"
    }
   ],
   "source": [
    "b = (np.mean(zp * ks) - np.mean(zp) * np.mean(ks)) / (np.mean(zp**2) - np.mean(zp)**2)\n",
    "b"
   ]
  },
  {
   "cell_type": "code",
   "execution_count": 9,
   "metadata": {},
   "outputs": [
    {
     "data": {
      "text/plain": [
       "444.1773573243596"
      ]
     },
     "execution_count": 9,
     "metadata": {},
     "output_type": "execute_result"
    }
   ],
   "source": [
    "a = np.mean(ks) - b * np.mean(zp)\n",
    "a"
   ]
  },
  {
   "cell_type": "code",
   "execution_count": 10,
   "metadata": {},
   "outputs": [
    {
     "data": {
      "text/plain": [
       "array([535.89621821, 562.10160703, 942.07974498, 968.2851338 ,\n",
       "       548.99891262, 627.61507909, 585.68645697, 837.25818968,\n",
       "       758.64202321, 732.43663439])"
      ]
     },
     "execution_count": 10,
     "metadata": {},
     "output_type": "execute_result"
    }
   ],
   "source": [
    "ks_hat = a + b * zp\n",
    "ks_hat"
   ]
  },
  {
   "cell_type": "code",
   "execution_count": 11,
   "metadata": {},
   "outputs": [
    {
     "data": {
      "image/png": "[encoded data removed]",
      "text/plain": [
       "<Figure size 432x288 with 1 Axes>"
      ]
     },
     "metadata": {
      "needs_background": "light"
     },
     "output_type": "display_data"
    }
   ],
   "source": [
    "plt.scatter(zp, ks)\n",
    "plt.plot(zp, ks_hat, color='r')\n",
    "plt.show()"
   ]
  },
  {
   "cell_type": "code",
   "execution_count": 12,
   "metadata": {},
   "outputs": [
    {
     "data": {
      "text/plain": [
       "6470.414201176658"
      ]
     },
     "execution_count": 12,
     "metadata": {},
     "output_type": "execute_result"
    }
   ],
   "source": [
    "mse = np.mean((ks_hat - ks)**2)\n",
    "mse"
   ]
  },
  {
   "cell_type": "code",
   "execution_count": 13,
   "metadata": {},
   "outputs": [
    {
     "data": {
      "text/plain": [
       "6470.414201176658"
      ]
     },
     "execution_count": 13,
     "metadata": {},
     "output_type": "execute_result"
    }
   ],
   "source": [
    "((ks_hat - ks)**2).sum() / len(ks)"
   ]
  },
  {
   "cell_type": "markdown",
   "metadata": {},
   "source": [
    "### Матричный метод"
   ]
  },
  {
   "cell_type": "code",
   "execution_count": 14,
   "metadata": {},
   "outputs": [
    {
     "name": "stdout",
     "output_type": "stream",
     "text": [
      "[[444.17735732]\n",
      " [  2.62053888]]\n"
     ]
    }
   ],
   "source": [
    "zp1 = np.reshape(zp, (zp.shape[0], 1))\n",
    "ks1 = np.reshape(ks, (ks.shape[0], 1))\n",
    "zp1 = np.hstack([np.ones((zp1.shape[0], 1)), zp1])\n",
    "B = np.dot(np.linalg.inv(np.dot(zp1.T, zp1)), zp1.T@ks1)\n",
    "print(B)"
   ]
  },
  {
   "cell_type": "markdown",
   "metadata": {},
   "source": [
    "### Задание 2\n",
    "\n",
    "Посчитать коэффициент линейной регрессии при заработной плате (zp), используя градиентный спуск (без intercept).  \n",
    "mse = ((ks - ks_hat)**2).sum() / n,  \n",
    "где ks_hat = B1 * zp и n = len(ks)  \n",
    "\n",
    "тогда  \n",
    "mse = sum( (ks - B1 * zp)**2 ) / len(ks)  \n",
    "mse_der = sum( 2 * (ks - B1 * zp) * zp ) / len(ks)  \n",
    "при каждой итерации коэффициент B1 изменяется на отрицательный градиент, уможенный на шаг итерации alhpa  \n",
    "B1_new = B1 - alpha * 2 / len(ks) * sum((ks - B1 * zp) * -zp)\n"
   ]
  },
  {
   "cell_type": "code",
   "execution_count": 15,
   "metadata": {},
   "outputs": [],
   "source": [
    "def mse_(y, x, B1):\n",
    "    return np.mean((y - B1 * x)**2)\n",
    "\n",
    "\n",
    "def get_B1_nonintersept(y, x, alpha, B1, vol_iter, print_elm=1):\n",
    "    for i in range(vol_iter):\n",
    "        B1 -= alpha * 2 / len(y) * np.sum((y - B1 * x) * -x)\n",
    "        print(f'Iteration {i}, B1 = {B1:.8f}, mse = {mse_(y, x, B1):.8f}') if i % print_elm == 0 else B1\n",
    "    return B1"
   ]
  },
  {
   "cell_type": "code",
   "execution_count": 16,
   "metadata": {},
   "outputs": [
    {
     "name": "stdout",
     "output_type": "stream",
     "text": [
      "Iteration 0, B1 = 0.09964362, mse = 10.24963655\n",
      "Iteration 500, B1 = 0.04458608, mse = 0.05018107\n",
      "Iteration 1000, B1 = 0.04205017, mse = 0.02854347\n",
      "Iteration 1500, B1 = 0.04193337, mse = 0.02849757\n",
      "Iteration 2000, B1 = 0.04192799, mse = 0.02849747\n",
      "Iteration 2500, B1 = 0.04192774, mse = 0.02849747\n",
      "Iteration 3000, B1 = 0.04192773, mse = 0.02849747\n"
     ]
    }
   ],
   "source": [
    "alpha = 1e-6\n",
    "B1 = 0.1\n",
    "vol_iter = 3000\n",
    "show_elm = 500\n",
    "\n",
    "x = np.array([27, 37, 42, 48, 54, 56, 77, 80])\n",
    "y = np.array([1.2, 1.6, 1.8, 1.8, 2.5, 2.6, 3.0, 3.3])\n",
    "B1_new = get_B1_nonintersept(y, x, alpha, B1, vol_iter, show_elm)\n",
    "print(f'Iteration {vol_iter}, B1 = {B1_new:.8f}, mse = {mse_(y, x, B1_new):.8f}') \n",
    "    "
   ]
  },
  {
   "cell_type": "code",
   "execution_count": 17,
   "metadata": {},
   "outputs": [
    {
     "name": "stdout",
     "output_type": "stream",
     "text": [
      "zp = [ 35  45 190 200  40  70  54 150 120 110]\n",
      "ks = [401 574 874 919 459 739 653 902 746 832]\n"
     ]
    }
   ],
   "source": [
    "print(f'zp = {zp}\\nks = {ks}')"
   ]
  },
  {
   "cell_type": "code",
   "execution_count": 18,
   "metadata": {},
   "outputs": [
    {
     "name": "stdout",
     "output_type": "stream",
     "text": [
      "Iteration 0, B1 = 9.98867514, mse = 287972.14234256\n",
      "Iteration 1000, B1 = 6.14947183, mse = 57445.66100066\n",
      "Iteration 2000, B1 = 5.90626864, mse = 56520.58559026\n",
      "Iteration 3000, B1 = 5.89086237, mse = 56516.87337243\n",
      "Iteration 4000, B1 = 5.88988642, mse = 56516.85847574\n",
      "Iteration 5000, B1 = 5.88982460, mse = 56516.85841596\n",
      "Iteration 6000, B1 = 5.88982069, mse = 56516.85841572\n",
      "Iteration 7000, B1 = 5.88982044, mse = 56516.85841572\n",
      "Iteration 8000, B1 = 5.88982042, mse = 56516.85841572\n",
      "Iteration 9000, B1 = 5.88982042, mse = 56516.85841572\n",
      "Iteration 10000, B1 = 5.8898204201, mse = 56516.8584157194\n"
     ]
    }
   ],
   "source": [
    "alpha = 1e-7\n",
    "B1 = 10\n",
    "vol_iter = 10000\n",
    "show_elm = 1000\n",
    "\n",
    "B1_new = get_B1_nonintersept(ks, zp, alpha, B1, vol_iter, show_elm)\n",
    "print(f'Iteration {vol_iter}, B1 = {B1_new:.10f}, mse = {mse_(ks, zp, B1_new):.10f}') "
   ]
  },
  {
   "cell_type": "code",
   "execution_count": 19,
   "metadata": {},
   "outputs": [
    {
     "name": "stdout",
     "output_type": "stream",
     "text": [
      "zp = [ 35  45 190 200  40  70  54 150 120 110]\n",
      "ks = [401 574 874 919 459 739 653 902 746 832]\n",
      "ks_hat = [ 206.14  265.04 1119.07 1177.96  235.59  412.29  318.05  883.47  706.78\n",
      "  647.88]\n",
      "B1 = 5.8898204201369655\n"
     ]
    },
    {
     "data": {
      "image/png": "[encoded data removed]",
      "text/plain": [
       "<Figure size 432x288 with 1 Axes>"
      ]
     },
     "metadata": {
      "needs_background": "light"
     },
     "output_type": "display_data"
    }
   ],
   "source": [
    "ks_hat = [B1_new * i for i in zp]\n",
    "print(f'zp = {zp}\\nks = {ks}\\nks_hat = {np.round(ks_hat, 2)}\\nB1 = {B1_new}')\n",
    "plt.scatter(zp, ks)\n",
    "plt.plot(zp, ks_hat, color='r')\n",
    "plt.show()"
   ]
  },
  {
   "cell_type": "markdown",
   "metadata": {},
   "source": [
    "### Задание 4\n",
    "Градинтный спуск с intersept  \n",
    "y = B1 + B2 * x  \n",
    "mse = mean((y - B1 - B2 * x)**2  \n",
    "mse_der_B1 = 2 / n * (y - B1 - B2 * x) * (-1)  \n",
    "mse_der_B2 = 2 / n * (y - B1 - B2 * x) * (-x)"
   ]
  },
  {
   "cell_type": "code",
   "execution_count": 20,
   "metadata": {},
   "outputs": [],
   "source": [
    "def mse_intersept(y, x, B):\n",
    "    return np.mean((y - B[0] - B[1] * x)**2)\n",
    "\n",
    "\n",
    "def get_B_intersept(y, x, alpha, B, vol_iter, print_elm=1):\n",
    "    for i in range(vol_iter):\n",
    "        B1 = B[0] - alpha * 2 / len(y) * np.sum((y - B[0] - B[1] * x) * -1)\n",
    "        B2 = B[1] - alpha * 2 / len(y) * np.sum((y - B[0] - B[1] * x) * -x)\n",
    "        B[0], B[1] = B1, B2\n",
    "        if i % print_elm == 0:\n",
    "            print(f'Iteration {i}, B1 = {B[0]:.8f}, B2 = {B[1]:.8f}, mse = {mse_intersept(y, x, B):.8f}')\n",
    "    return B"
   ]
  },
  {
   "cell_type": "code",
   "execution_count": 21,
   "metadata": {},
   "outputs": [
    {
     "name": "stdout",
     "output_type": "stream",
     "text": [
      "Iteration 0, B1 = 444.00000464, B2 = 2.62050816, mse = 6470.44677315\n",
      "Iteration 50000, B1 = 444.03974602, B2 = 2.62155176, mse = 6470.41900480\n",
      "Iteration 100000, B1 = 444.07057619, B2 = 2.62132484, mse = 6470.41709352\n",
      "Iteration 150000, B1 = 444.09449923, B2 = 2.62114875, mse = 6470.41594270\n",
      "Iteration 200000, B1 = 444.11306260, B2 = 2.62101212, mse = 6470.41524978\n",
      "Iteration 250000, B1 = 444.12746706, B2 = 2.62090610, mse = 6470.41483256\n",
      "Iteration 300000, B1 = 444.13864438, B2 = 2.62082383, mse = 6470.41458134\n",
      "Iteration 350000, B1 = 444.14731755, B2 = 2.62075999, mse = 6470.41443008\n",
      "Iteration 400000, B1 = 444.15404761, B2 = 2.62071045, mse = 6470.41433900\n",
      "Iteration 450000, B1 = 444.15926987, B2 = 2.62067201, mse = 6470.41428416\n",
      "Iteration 500000, B1 = 444.1633220772, B2 = 2.6206421880, mse = 6470.4142511456\n"
     ]
    }
   ],
   "source": [
    "alpha = 1e-5\n",
    "B = [444, 2.62]\n",
    "vol_iter = 500000\n",
    "show_elm = 50000\n",
    "\n",
    "B_new = get_B_intersept(ks, zp, alpha, B, vol_iter, show_elm)\n",
    "print(f'Iteration {vol_iter}, B1 = {B_new[0]:.10f}, B2 = {B_new[1]:.10f}, mse = {mse_intersept(ks, zp, B_new):.10f}') "
   ]
  },
  {
   "cell_type": "code",
   "execution_count": 22,
   "metadata": {},
   "outputs": [
    {
     "name": "stdout",
     "output_type": "stream",
     "text": [
      "zp = [ 35  45 190 200  40  70  54 150 120 110]\n",
      "ks = [401 574 874 919 459 739 653 902 746 832]\n",
      "ks_hat = [535.89 562.09 942.09 968.29 548.99 627.61 585.68 837.26 758.64 732.43]\n",
      "B1 = [444.16332207717477, 2.6206421880273845]\n"
     ]
    },
    {
     "data": {
      "image/png": "[encoded data removed]",
      "text/plain": [
       "<Figure size 432x288 with 1 Axes>"
      ]
     },
     "metadata": {
      "needs_background": "light"
     },
     "output_type": "display_data"
    }
   ],
   "source": [
    "ks_hat = [B_new[0] + B_new[1] * i for i in zp]\n",
    "print(f'zp = {zp}\\nks = {ks}\\nks_hat = {np.round(ks_hat, 2)}\\nB1 = {B_new}')\n",
    "plt.scatter(zp, ks)\n",
    "plt.plot(zp, ks_hat, color='r')\n",
    "plt.show()"
   ]
  }
 ],
 "metadata": {
  "kernelspec": {
   "display_name": "Python 3",
   "language": "python",
   "name": "python3"
  },
  "language_info": {
   "codemirror_mode": {
    "name": "ipython",
    "version": 3
   },
   "file_extension": ".py",
   "mimetype": "text/x-python",
   "name": "python",
   "nbconvert_exporter": "python",
   "pygments_lexer": "ipython3",
   "version": "3.7.3"
  }
 },
 "nbformat": 4,
 "nbformat_minor": 2
}
